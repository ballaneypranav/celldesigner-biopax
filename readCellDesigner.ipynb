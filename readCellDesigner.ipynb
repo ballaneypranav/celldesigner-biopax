{
 "metadata": {
  "language_info": {
   "codemirror_mode": {
    "name": "ipython",
    "version": 3
   },
   "file_extension": ".py",
   "mimetype": "text/x-python",
   "name": "python",
   "nbconvert_exporter": "python",
   "pygments_lexer": "ipython3",
   "version": "3.8.5-final"
  },
  "orig_nbformat": 2,
  "kernelspec": {
   "name": "python38564bit0b4e07013a1b4419ac53ac8deed14210",
   "display_name": "Python 3.8.5 64-bit",
   "language": "python"
  }
 },
 "nbformat": 4,
 "nbformat_minor": 2,
 "cells": [
  {
   "cell_type": "code",
   "execution_count": 1,
   "metadata": {},
   "outputs": [],
   "source": [
    "from lxml import objectify\n",
    "\n",
    "with open('sim0.5.xml', 'rb') as file:\n",
    "    tree = objectify.fromstring(file.read())"
   ]
  },
  {
   "cell_type": "code",
   "execution_count": 3,
   "metadata": {},
   "outputs": [
    {
     "output_type": "execute_result",
     "data": {
      "text/plain": [
       "{None: 'http://www.sbml.org/sbml/level2/version4',\n",
       " 'celldesigner': 'http://www.sbml.org/2001/ns/celldesigner'}"
      ]
     },
     "metadata": {},
     "execution_count": 3
    }
   ],
   "source": [
    "tree.nsmap"
   ]
  },
  {
   "cell_type": "code",
   "execution_count": 7,
   "metadata": {},
   "outputs": [
    {
     "output_type": "execute_result",
     "data": {
      "text/plain": [
       "<Element {http://www.sbml.org/sbml/level2/version4}annotation at 0x7f717c401180>"
      ]
     },
     "metadata": {},
     "execution_count": 7
    }
   ],
   "source": [
    "annotation = tree.model.annotation"
   ]
  },
  {
   "cell_type": "code",
   "execution_count": 11,
   "metadata": {},
   "outputs": [
    {
     "output_type": "execute_result",
     "data": {
      "text/plain": [
       "[<Element {http://www.sbml.org/2001/ns/celldesigner}listOfSpeciesAliases at 0x7f717c54a3c0>]"
      ]
     },
     "metadata": {},
     "execution_count": 11
    }
   ],
   "source": [
    "annotation.findall('.//celldesigner:listOfSpeciesAliases', namespaces=tree.nsmap)"
   ]
  },
  {
   "cell_type": "code",
   "execution_count": 38,
   "metadata": {},
   "outputs": [],
   "source": [
    "def qualifyTag(tag, namespace, nsmap):\n",
    "    return \"{\" + nsmap[namespace] + \"}\" + tag"
   ]
  }
 ]
}